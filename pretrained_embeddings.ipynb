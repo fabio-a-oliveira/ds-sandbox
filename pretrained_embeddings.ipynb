{
 "cells": [
  {
   "cell_type": "markdown",
   "id": "independent-avatar",
   "metadata": {},
   "source": [
    "### Import libraries and functions"
   ]
  },
  {
   "cell_type": "code",
   "execution_count": 92,
   "id": "comprehensive-variation",
   "metadata": {},
   "outputs": [],
   "source": [
    "import tensorflow as tf\n",
    "import numpy as np\n",
    "import requests\n",
    "from os import listdir, getcwd, chdir, mkdir\n",
    "from os.path import join\n",
    "import zipfile\n",
    "from scipy.spatial.distance import cosine\n",
    "from scipy.linalg import norm"
   ]
  },
  {
   "cell_type": "markdown",
   "id": "valid-senator",
   "metadata": {},
   "source": [
    "### Download GloVe word embeddings from Stanford website"
   ]
  },
  {
   "cell_type": "code",
   "execution_count": 5,
   "id": "manual-hundred",
   "metadata": {},
   "outputs": [],
   "source": [
    "URL = 'http://nlp.stanford.edu/data/glove.6B.zip'\n",
    "\n",
    "if 'GloVe' not in listdir():\n",
    "    mkdir('GloVe')\n",
    "    \n",
    "current_directory = getcwd()\n",
    "chdir(join(current_directory, 'GloVe'))\n",
    "\n",
    "r = requests.get(URL)\n",
    "with open('glove.6B.zip', 'wb') as file:\n",
    "    file.write(r.content)\n",
    "\n",
    "chdir(current_directory)"
   ]
  },
  {
   "cell_type": "markdown",
   "id": "favorite-arcade",
   "metadata": {},
   "source": [
    "### Unzip embeddings"
   ]
  },
  {
   "cell_type": "code",
   "execution_count": 7,
   "id": "appointed-married",
   "metadata": {},
   "outputs": [],
   "source": [
    "current_directory = getcwd()\n",
    "chdir(join(current_directory, 'GloVe'))\n",
    "\n",
    "zip = zipfile.ZipFile('glove.6B.zip')\n",
    "zip.extractall()\n",
    "\n",
    "chdir(current_directory)"
   ]
  },
  {
   "cell_type": "markdown",
   "id": "viral-cross",
   "metadata": {},
   "source": [
    "### Prepare a dictionary with embedding vectors"
   ]
  },
  {
   "cell_type": "code",
   "execution_count": 107,
   "id": "intermediate-polymer",
   "metadata": {},
   "outputs": [],
   "source": [
    "embedding_dict = {}\n",
    "\n",
    "with open(join(getcwd(), 'GloVe', 'glove.6B.300d.txt'), encoding='UTF-8') as file:\n",
    "    for line in file:\n",
    "        token, vector = line.split(maxsplit=1)\n",
    "        embedding_dict[token] = np.array(vector.replace('\\n','').split(' ')).astype('float')"
   ]
  },
  {
   "cell_type": "code",
   "execution_count": 108,
   "id": "hearing-desert",
   "metadata": {},
   "outputs": [
    {
     "data": {
      "text/plain": [
       "400000"
      ]
     },
     "execution_count": 108,
     "metadata": {},
     "output_type": "execute_result"
    }
   ],
   "source": [
    "len(embedding_dict.keys())"
   ]
  },
  {
   "cell_type": "code",
   "execution_count": 109,
   "id": "announced-berkeley",
   "metadata": {},
   "outputs": [],
   "source": [
    "tokens = list(embedding_dict.keys())\n",
    "embedding_matrix = np.array(list(embedding_dict.values()))"
   ]
  },
  {
   "cell_type": "code",
   "execution_count": 110,
   "id": "pregnant-stereo",
   "metadata": {},
   "outputs": [
    {
     "data": {
      "text/plain": [
       "(array([ 3.2027e-01,  2.6571e-01, -2.8039e-01, -6.2729e-01, -6.0355e-01,\n",
       "         8.6039e-02,  3.5997e-01,  9.0403e-01, -2.9259e-01, -2.3684e+00,\n",
       "         5.6919e-01, -3.8653e-02,  4.2209e-01, -9.0914e-01, -3.6788e-02,\n",
       "         1.7256e-01,  6.3583e-01,  2.6582e-01, -2.8997e-01, -5.9928e-01,\n",
       "         1.3667e-01,  4.4419e-01,  5.4853e-01,  3.0715e-01, -1.3531e-01,\n",
       "         8.4109e-02, -3.6342e-01, -1.4986e-01, -3.7831e-01,  1.9623e-01,\n",
       "         2.5002e-01, -2.9345e-01,  7.4447e-02, -1.2212e-01,  1.7075e-01,\n",
       "        -4.7846e-01, -4.9278e-01, -1.9748e-01,  4.4991e-02,  6.0070e-01,\n",
       "        -5.0407e-01,  4.5494e-02,  3.2189e-02,  4.7133e-01,  8.7665e-02,\n",
       "         6.3117e-02,  5.4136e-01,  5.0370e-02,  4.5647e-01,  4.3566e-02,\n",
       "         3.3416e-01, -6.2111e-01,  3.0040e-02,  4.5272e-01, -1.1423e+00,\n",
       "        -4.2581e-01,  1.9306e-01,  1.8070e-01,  1.1289e-01,  1.4679e-02,\n",
       "        -6.7776e-01, -3.7808e-01,  2.0781e-01, -6.8875e-01,  1.4939e-01,\n",
       "         3.7239e-01, -4.5716e-01,  1.8325e-01,  3.8015e-01,  4.3028e-01,\n",
       "         3.5467e-01,  4.0335e-01,  8.7178e-02,  7.9824e-03, -2.2506e-01,\n",
       "         5.1379e-01, -3.0859e-01,  7.3528e-01, -9.6138e-02,  3.2127e-01,\n",
       "        -6.9726e-01,  2.5111e-01, -3.1597e-02,  2.4331e-01,  9.8540e-02,\n",
       "        -1.5606e-01,  2.1346e-01, -1.2903e-02, -4.4322e-01,  2.5701e-01,\n",
       "         1.1774e+00,  4.7315e-01, -2.6015e-01, -1.6561e-01,  5.9134e-01,\n",
       "         2.2679e-01, -5.0477e-01,  3.6170e-02, -4.6484e-02,  5.2128e-01,\n",
       "        -1.1399e-01, -7.7491e-02,  1.1657e-01,  5.0543e-01, -3.8810e-01,\n",
       "        -4.9163e-01, -2.5131e-02, -2.2182e-01,  2.7814e-01,  9.3095e-02,\n",
       "         1.2060e-01, -2.6019e-01, -9.0548e-02, -2.4387e-01, -6.0849e-01,\n",
       "        -2.9177e-01, -1.1989e-02,  6.3816e-01, -4.5667e-01,  2.0378e-01,\n",
       "         3.2050e-02, -3.2572e-01, -7.3953e-02,  1.3016e-01, -3.1598e-01,\n",
       "         4.9124e-01, -4.1402e-02,  9.1056e-04,  3.6685e-01, -1.5314e-01,\n",
       "         1.3157e-02,  4.0641e-01,  3.7328e-01,  3.7821e-01,  1.9208e-01,\n",
       "         7.9464e-01, -3.7561e-01,  1.0114e-01, -3.9642e-01, -2.1444e-01,\n",
       "        -4.5792e-02,  3.2536e-01,  9.5371e-02,  2.8861e-01, -5.4201e-01,\n",
       "         3.1485e-02,  3.5545e-01,  1.8420e-01, -3.8192e-01,  2.3011e-01,\n",
       "         1.3376e+00, -1.0193e-01, -2.8163e-01, -4.1442e-01,  1.4701e+00,\n",
       "        -4.1811e-01,  4.7605e-01,  6.3062e-01,  1.0643e-01, -3.0849e-01,\n",
       "         2.2970e-01, -4.4090e-01, -4.1470e-01,  1.2381e-01, -1.0887e-02,\n",
       "         5.1283e-02,  1.1336e-01,  7.5886e-01, -2.7383e-01,  5.6782e-01,\n",
       "         1.2897e-01, -2.6442e-01,  1.1516e+00, -3.5313e-02, -5.2415e-01,\n",
       "         1.5035e-01,  2.4182e-01, -3.3859e-01,  3.2544e-01, -2.1903e-01,\n",
       "         6.0127e-01,  3.8249e-01,  4.6492e-01,  2.2556e-01, -2.8543e-01,\n",
       "        -3.2290e-02, -5.4449e-01,  4.2138e-01,  3.0216e-01, -3.5056e-01,\n",
       "        -2.7921e-01,  4.0076e-01, -2.6885e-01, -3.0239e-01,  5.9457e-02,\n",
       "        -1.4109e-01, -1.2014e-01,  2.9702e-01,  3.7156e-01, -5.0706e-01,\n",
       "         7.8058e-02, -2.0297e-01, -1.0975e-01, -8.9693e-01,  4.3739e-01,\n",
       "         1.7438e-01, -2.2285e-01, -1.0215e-01, -2.3740e-01,  3.0389e-01,\n",
       "         2.7837e-01, -1.5792e-01, -4.5577e-01, -3.9110e-01, -1.9621e-01,\n",
       "        -1.1253e+00, -2.5173e-02,  5.9972e-01, -5.4840e-01,  2.0172e-01,\n",
       "         9.2071e-01,  3.0530e-01,  5.8201e-01, -3.3147e-01, -6.0481e-01,\n",
       "         5.2896e-01,  2.6915e-01, -1.2721e-01,  3.3147e-01, -3.5175e-01,\n",
       "         5.3911e-01,  2.5180e-01,  1.4851e-01,  5.5881e-01,  5.6214e-01,\n",
       "         7.2927e-03, -3.7520e-01,  2.6330e-01, -5.6859e-01,  5.4247e-01,\n",
       "         2.4812e-01,  9.1480e-02,  6.1076e-02,  6.8431e-02,  2.2115e-01,\n",
       "        -1.7706e-01, -4.0732e-01, -3.9073e-01,  2.2964e-01,  4.7237e-01,\n",
       "        -4.9049e-01,  9.8739e-02, -3.6222e-01, -1.4837e-01,  5.0687e-01,\n",
       "        -2.0852e-03, -4.7599e-01,  1.6009e-01,  2.3031e-02, -1.6412e-01,\n",
       "         4.2505e-01,  3.1763e-02, -4.2062e-02,  3.6189e-03,  2.9141e-01,\n",
       "         3.2770e-01, -3.4768e-01, -4.1564e-02,  2.0109e-01,  5.4282e-01,\n",
       "         9.8033e-01,  3.3961e-01,  1.2412e-01, -7.1475e-02, -1.6278e-01,\n",
       "        -5.7408e-02, -1.4129e+00,  1.3080e-01,  5.9326e-02, -3.0883e-01,\n",
       "        -4.1177e-01,  5.1126e-01,  2.7890e-01, -4.4689e-01,  6.0591e-01,\n",
       "        -6.9043e-02, -2.1935e-01,  4.3851e-01, -1.5552e-01,  1.2947e-01,\n",
       "        -8.6909e-02, -3.7042e-01, -1.4963e-01, -7.9113e-01, -1.3399e-01,\n",
       "         1.0054e+00, -5.7265e-01, -6.6728e-01, -3.2791e-01, -3.2016e-01]),\n",
       " array([ 0.48249  ,  0.10947  , -0.38012  , -0.76237  , -0.405    ,\n",
       "         0.20356  , -0.060407 ,  0.17968  , -0.096102 , -1.0428   ,\n",
       "        -0.10701  ,  0.027911 ,  0.34874  , -0.69299  ,  0.1286   ,\n",
       "         0.21458  ,  0.71598  ,  0.14232  , -0.17868  , -0.36326  ,\n",
       "         0.27102  ,  0.80712  ,  0.36249  ,  0.27473  , -0.19904  ,\n",
       "         0.26343  , -0.06467  , -0.47447  , -0.38977  , -0.37327  ,\n",
       "        -0.19415  , -0.11692  , -0.14147  , -0.33381  , -0.026066 ,\n",
       "         0.24894  , -0.71621  , -0.53107  ,  0.0035624,  0.43346  ,\n",
       "        -0.6176   ,  0.028995 ,  0.12603  ,  0.13997  , -0.21332  ,\n",
       "         0.0069925,  0.83838  , -0.29416  ,  0.29387  , -0.098262 ,\n",
       "         0.51544  , -0.48416  , -0.01073  ,  0.36081  , -0.86698  ,\n",
       "        -0.10285  ,  0.034336 , -0.26605  ,  0.16994  , -0.11922  ,\n",
       "        -0.51609  , -0.025428 ,  0.29007  , -0.033609 ,  0.01233  ,\n",
       "         0.023592 , -0.033913 ,  0.10354  ,  0.098979 ,  0.41569  ,\n",
       "         0.44558  ,  0.21516  ,  0.048604 ,  0.095349 , -0.06602  ,\n",
       "        -0.030882 , -0.64128  ,  0.43219  ,  0.10899  ,  0.40453  ,\n",
       "        -0.54511  ,  0.10702  ,  0.40346  ,  0.45486  ,  0.27895  ,\n",
       "        -0.28799  ,  0.36025  ,  0.29593  , -0.65381  ,  0.34137  ,\n",
       "         1.0454   ,  0.60018  , -0.004203 , -0.34123  ,  0.25509  ,\n",
       "         0.14634  , -0.5186   ,  0.12751  , -0.26933  ,  0.3588   ,\n",
       "        -0.022525 ,  0.3201   ,  0.47176  ,  0.13705  ,  0.10136  ,\n",
       "        -0.52567  , -0.073272 , -0.2095   , -0.30519  ,  0.035979 ,\n",
       "        -0.13644  , -0.092265 , -0.026473 , -0.58295  , -0.18521  ,\n",
       "        -0.20245  ,  0.35445  ,  0.5488   , -0.40559  , -0.17176  ,\n",
       "        -0.20037  , -0.47563  ,  0.30336  , -0.15653  , -0.29525  ,\n",
       "        -0.070344 ,  0.24667  , -0.31566  ,  0.46041  , -0.25244  ,\n",
       "         0.36274  ,  0.49553  ,  0.45166  , -0.11631  ,  0.0504   ,\n",
       "         0.54955  , -0.55834  ,  0.2644   , -0.90379  , -0.21345  ,\n",
       "        -0.062305 , -0.1847   , -0.043905 ,  0.057101 , -0.30533  ,\n",
       "        -0.092914 ,  0.36475  ,  0.1734   , -0.16249  , -0.087672 ,\n",
       "         0.66712  ,  0.18148  , -0.01696  , -0.29694  ,  0.70782  ,\n",
       "        -0.045571 ,  0.35646  ,  0.44506  ,  0.20444  ,  0.040122 ,\n",
       "         0.26664  , -0.55207  , -0.38035  ,  0.29181  ,  0.24158  ,\n",
       "         0.015992 ,  0.35228  ,  0.2651   , -0.33613  ,  0.1401   ,\n",
       "        -0.16352  , -0.4345   ,  0.45149  , -0.10474  , -0.40161  ,\n",
       "        -0.1536   ,  0.43143  , -0.36638  ,  0.32879  , -0.55312  ,\n",
       "         0.60621  ,  0.19892  ,  0.27036  ,  0.24019  , -0.18074  ,\n",
       "        -0.44632  , -0.038674 ,  0.50288  , -0.071317 ,  0.21485  ,\n",
       "         0.11721  ,  0.26882  , -0.34583  , -0.53828  ,  0.028468 ,\n",
       "        -0.04108  , -0.18049  ,  0.54913  , -0.1938   , -0.28779  ,\n",
       "         0.19208  ,  0.20461  ,  0.31584  , -0.40555  ,  0.32832  ,\n",
       "        -0.18847  ,  0.16624  ,  0.17866  , -0.35777  ,  0.12583  ,\n",
       "        -0.37076  , -0.077676 , -0.38631  , -0.14868  ,  0.11462  ,\n",
       "        -0.43996  , -0.32047  ,  0.22603  , -0.43256  ,  0.45541  ,\n",
       "         0.47033  ,  0.21654  ,  0.35986  , -0.052495 , -0.32195  ,\n",
       "         0.089182 ,  0.056137 ,  0.012531 ,  0.1453   , -0.38879  ,\n",
       "         0.22449  , -0.023288 , -0.12832  ,  0.17218  ,  0.64614  ,\n",
       "        -0.22541  , -0.25882  ,  0.15567  , -0.42111  ,  0.04148  ,\n",
       "         0.62695  ,  0.036762 , -0.20483  , -0.035261 ,  0.21228  ,\n",
       "        -0.62769  ,  0.14941  , -0.22647  ,  0.40848  ,  0.7197   ,\n",
       "        -0.29457  ,  0.091468 , -0.039419 ,  0.14294  ,  0.31452  ,\n",
       "         0.37622  , -0.042161 , -0.096251 ,  0.32834  , -0.53085  ,\n",
       "         0.28434  , -0.30959  ,  0.009254 , -0.069594 ,  0.68535  ,\n",
       "         0.20997  , -0.18779  , -0.088381 , -0.19469  ,  0.2744   ,\n",
       "         0.77746  ,  0.46594  , -0.038797 , -0.15417  ,  0.25514  ,\n",
       "        -0.15721  , -1.3273   , -0.25784  , -0.35633  , -0.56126  ,\n",
       "        -0.60894  ,  0.25801  ,  0.30416  , -0.08841  , -0.046124 ,\n",
       "         0.037309 ,  0.16093  ,  0.57507  , -0.43495  ,  0.081871 ,\n",
       "         0.39896  , -0.42762  , -0.16746  , -0.50766  ,  0.22887  ,\n",
       "         0.351    , -0.63862  ,  0.076178 , -0.22075  ,  0.42687  ]))"
      ]
     },
     "execution_count": 110,
     "metadata": {},
     "output_type": "execute_result"
    }
   ],
   "source": [
    "embedding_dict['aircraft'], embedding_dict['airplane']"
   ]
  },
  {
   "cell_type": "code",
   "execution_count": 111,
   "id": "liberal-nigeria",
   "metadata": {},
   "outputs": [
    {
     "data": {
      "text/plain": [
       "0.44656689393858884"
      ]
     },
     "execution_count": 111,
     "metadata": {},
     "output_type": "execute_result"
    }
   ],
   "source": [
    "cosine(embedding_dict['aviation'], embedding_dict['aerospace'])"
   ]
  },
  {
   "cell_type": "code",
   "execution_count": 112,
   "id": "handmade-description",
   "metadata": {},
   "outputs": [
    {
     "data": {
      "text/plain": [
       "'lisbon'"
      ]
     },
     "execution_count": 112,
     "metadata": {},
     "output_type": "execute_result"
    }
   ],
   "source": [
    "e = embedding_dict\n",
    "masculine = (e['boy'] + e['man'] + e['prince'] + e['father'] + e['male']) / 5\n",
    "feminine = (e['girl'] + e['woman'] + e['princess'] + e['mother'] + e['female']) / 5\n",
    "\n",
    "# vec = e['actor'] - masculine + feminine\n",
    "vec = e['paris'] - e['france'] + e['portugal']\n",
    "\n",
    "distances = np.array([cosine(vec, embedding_matrix[line,:]) for line in range(embedding_matrix.shape[0])])\n",
    "abs = np.abs(distances)\n",
    "index = abs.argmin()\n",
    "\n",
    "tokens[index]"
   ]
  },
  {
   "cell_type": "code",
   "execution_count": null,
   "id": "delayed-teacher",
   "metadata": {},
   "outputs": [],
   "source": []
  },
  {
   "cell_type": "code",
   "execution_count": null,
   "id": "searching-queens",
   "metadata": {},
   "outputs": [],
   "source": []
  },
  {
   "cell_type": "code",
   "execution_count": null,
   "id": "stylish-commerce",
   "metadata": {},
   "outputs": [],
   "source": []
  },
  {
   "cell_type": "code",
   "execution_count": 119,
   "id": "undefined-beaver",
   "metadata": {},
   "outputs": [
    {
     "data": {
      "text/plain": [
       "'istanbul'"
      ]
     },
     "execution_count": 119,
     "metadata": {},
     "output_type": "execute_result"
    }
   ],
   "source": [
    "vec = e['paris'] - e['france'] + e['turkey']\n",
    "\n",
    "distances = np.array([cosine(vec, embedding_matrix[line,:]) for line in range(embedding_matrix.shape[0])])\n",
    "abs = np.abs(distances)\n",
    "index = abs.argmin()\n",
    "\n",
    "tokens[index]"
   ]
  },
  {
   "cell_type": "code",
   "execution_count": null,
   "id": "polish-express",
   "metadata": {},
   "outputs": [],
   "source": []
  },
  {
   "cell_type": "code",
   "execution_count": null,
   "id": "functional-guidance",
   "metadata": {},
   "outputs": [],
   "source": []
  },
  {
   "cell_type": "code",
   "execution_count": null,
   "id": "departmental-bedroom",
   "metadata": {},
   "outputs": [],
   "source": []
  },
  {
   "cell_type": "code",
   "execution_count": 97,
   "id": "subject-compromise",
   "metadata": {},
   "outputs": [
    {
     "data": {
      "text/plain": [
       "0.5716432756575993"
      ]
     },
     "execution_count": 97,
     "metadata": {},
     "output_type": "execute_result"
    }
   ],
   "source": [
    "cosine(e['amazing'], e['horrendous'])"
   ]
  },
  {
   "cell_type": "code",
   "execution_count": null,
   "id": "piano-seating",
   "metadata": {},
   "outputs": [],
   "source": []
  },
  {
   "cell_type": "code",
   "execution_count": null,
   "id": "commercial-acquisition",
   "metadata": {},
   "outputs": [],
   "source": []
  }
 ],
 "metadata": {
  "kernelspec": {
   "display_name": "Python 3",
   "language": "python",
   "name": "python3"
  },
  "language_info": {
   "codemirror_mode": {
    "name": "ipython",
    "version": 3
   },
   "file_extension": ".py",
   "mimetype": "text/x-python",
   "name": "python",
   "nbconvert_exporter": "python",
   "pygments_lexer": "ipython3",
   "version": "3.8.5"
  }
 },
 "nbformat": 4,
 "nbformat_minor": 5
}
