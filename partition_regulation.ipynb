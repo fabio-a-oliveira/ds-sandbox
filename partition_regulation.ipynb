{
 "cells": [
  {
   "cell_type": "markdown",
   "id": "directed-minimum",
   "metadata": {},
   "source": [
    "# Setup"
   ]
  },
  {
   "cell_type": "markdown",
   "id": "hearing-thriller",
   "metadata": {},
   "source": [
    "Import libraries"
   ]
  },
  {
   "cell_type": "code",
   "execution_count": 232,
   "id": "sufficient-confidentiality",
   "metadata": {},
   "outputs": [],
   "source": [
    "import numpy as np\n",
    "import tensorflow as tf\n",
    "from os import chdir, getcwd, listdir, mkdir\n",
    "from os.path import join\n",
    "import requests\n",
    "from xml.etree import ElementTree as ET\n",
    "import re\n",
    "import pandas as pd\n",
    "\n",
    "HOME = getcwd()"
   ]
  },
  {
   "cell_type": "markdown",
   "id": "charged-assurance",
   "metadata": {},
   "source": [
    "## RBAC 121"
   ]
  },
  {
   "cell_type": "code",
   "execution_count": 225,
   "id": "starting-plasma",
   "metadata": {},
   "outputs": [],
   "source": [
    "RBAC121 = ['']\n",
    "\n",
    "with open(join(HOME, 'RBAC', 'RBAC121_en.txt'), encoding='utf-8') as file:\n",
    "    for line in file:\n",
    "        if re.match('\\<EOS\\>',line):\n",
    "            RBAC121.append('')\n",
    "        else:\n",
    "            RBAC121[-1] += line\n",
    "_ = RBAC121.pop()"
   ]
  },
  {
   "cell_type": "code",
   "execution_count": 253,
   "id": "falling-option",
   "metadata": {},
   "outputs": [],
   "source": [
    "titles, requirements = [], []\n",
    "\n",
    "for section in RBAC121:\n",
    "    title, text = section.split(' ', maxsplit=1)\n",
    "    text = re.sub('\\n', ' ', text)\n",
    "    titles.append(title)\n",
    "    requirements.append(text)"
   ]
  },
  {
   "cell_type": "code",
   "execution_count": 481,
   "id": "aerial-hamilton",
   "metadata": {},
   "outputs": [],
   "source": [
    "df = pd.DataFrame(zip(titles, requirements), columns = ['title', 'requirement'])\n",
    "df.to_excel(join('RBAC','RBAC121_labelled.xlsx'))\n",
    "df['title'] = df.title.map(lambda x: x.replace(',','.'))"
   ]
  },
  {
   "cell_type": "markdown",
   "id": "equal-rates",
   "metadata": {},
   "source": [
    "Use part 121 labels as reference:"
   ]
  },
  {
   "cell_type": "code",
   "execution_count": 482,
   "id": "moderate-honor",
   "metadata": {},
   "outputs": [],
   "source": [
    "part121 = pd.read_excel(join('FAR','ECFR-title14_labelled.xlsx'))[['title','requirement','label','tag']]\n",
    "part121['section'] = part121.requirement.map(lambda x: re.findall('^§ (121.\\d*)', x)[0])"
   ]
  },
  {
   "cell_type": "code",
   "execution_count": 483,
   "id": "floppy-genealogy",
   "metadata": {},
   "outputs": [],
   "source": [
    "df_agg = part121.groupby(['section', 'label']).agg({'label':'count'})\n",
    "df_agg.columns = ['count']\n",
    "index = df_agg.index\n",
    "df_agg['section'] = [ind[0] for ind in index]\n",
    "df_agg['label'] = [ind[1] for ind in index]\n",
    "df_agg.reset_index(drop=True, inplace=True)\n",
    "df_agg = df_agg.pivot_table('count', 'section', 'label', fill_value=0)\n",
    "df_agg['label'] = np.array(df_agg).argmax(axis=1)\n",
    "df_agg['title'] = df_agg.index"
   ]
  },
  {
   "cell_type": "code",
   "execution_count": 484,
   "id": "incoming-checkout",
   "metadata": {},
   "outputs": [],
   "source": [
    "df_labelled = df.join(df_agg, on = 'title', rsuffix = 'FAA')[['title','requirement','label']]\n",
    "df_labelled.to_excel(join('RBAC', 'RBAC121_labelled.xlsx'))"
   ]
  },
  {
   "cell_type": "markdown",
   "id": "sapphire-disney",
   "metadata": {},
   "source": [
    "## FAR Part 121"
   ]
  },
  {
   "cell_type": "markdown",
   "id": "unknown-franklin",
   "metadata": {},
   "source": [
    "Download file"
   ]
  },
  {
   "cell_type": "code",
   "execution_count": 5,
   "id": "numerous-botswana",
   "metadata": {},
   "outputs": [],
   "source": [
    "URL = 'https://www.govinfo.gov/bulkdata/ECFR/title-14/ECFR-title14.xml'\n",
    "\n",
    "if 'FAR' not in listdir():\n",
    "    mkdir('FAR')\n",
    "\n",
    "chdir(join(HOME, 'FAR'))\n",
    "r = requests.get(URL)\n",
    "with open('ECFR-title14.xml', 'wb') as file:\n",
    "    file.write(r.content)\n",
    "\n",
    "chdir(HOME)"
   ]
  },
  {
   "cell_type": "markdown",
   "id": "encouraging-checkout",
   "metadata": {},
   "source": [
    "Parse xml file"
   ]
  },
  {
   "cell_type": "code",
   "execution_count": 82,
   "id": "recovered-trinidad",
   "metadata": {},
   "outputs": [],
   "source": [
    "filepath = join('FAR', 'ECFR-title14.xml')\n",
    "tree = ET.parse(filepath)\n",
    "root = tree.getroot()\n",
    "\n",
    "sections = []\n",
    "\n",
    "for element in root.iter():\n",
    "    if element.tag == 'DIV8' and re.match('^§ 121.\\d+', element.attrib['N']):\n",
    "        sections.append(element)"
   ]
  },
  {
   "cell_type": "code",
   "execution_count": 85,
   "id": "differential-hanging",
   "metadata": {},
   "outputs": [
    {
     "data": {
      "text/plain": [
       "{'N': '§ 121.1', 'NODE': '14:3.0.1.1.7.1.2.1', 'TYPE': 'SECTION'}"
      ]
     },
     "execution_count": 85,
     "metadata": {},
     "output_type": "execute_result"
    }
   ],
   "source": [
    "sections[0].attrib"
   ]
  },
  {
   "cell_type": "code",
   "execution_count": 97,
   "id": "exotic-waste",
   "metadata": {},
   "outputs": [
    {
     "name": "stdout",
     "output_type": "stream",
     "text": [
      "{'N': '§ 121.1', 'NODE': '14:3.0.1.1.7.1.2.1', 'TYPE': 'SECTION'}\n",
      "{}\n",
      "{}\n",
      "{}\n",
      "{}\n",
      "{}\n",
      "{}\n",
      "{}\n",
      "{}\n",
      "{}\n",
      "{}\n",
      "{}\n",
      "{'TYPE': 'N'}\n"
     ]
    }
   ],
   "source": [
    "for element in sections[0].iter():\n",
    "    print(element.attrib)"
   ]
  },
  {
   "cell_type": "code",
   "execution_count": 133,
   "id": "approximate-civilian",
   "metadata": {},
   "outputs": [
    {
     "name": "stdout",
     "output_type": "stream",
     "text": [
      "§ 121.1   Applicability.This part prescribes rules governing - \n",
      "(a) The domestic, flag, and supplemental operations of each person who holds or is required to hold an Air Carrier Certificate or Operating Certificate under part 119 of this chapter. \n",
      "(b) Each person employed or used by a certificate holder conducting operations under this part including maintenance, preventive maintenance, and alteration of aircraft. \n",
      "(c) Each person who applies for provisional approval of an Advanced Qualification Program curriculum, curriculum segment, or portion of a curriculum segment under SFAR No. 58 of 14 CFR part 121, and each person employed or used by an air carrier or commercial operator under this part to perform training, qualification, or evaluation functions under an Advanced Qualification Program under SFAR No. 58 of 14 CFR part 121. \n",
      "(d) Nonstop Commercial Air Tours conducted for compensation or hire in accordance with § 119.1(e)(2) of this chapter must comply with drug and alcohol requirements in §§ 121.455, 121.457, 121.458 and 121.459, and with the provisions of part 136, subpart A of this chapter by September 11, 2007. An operator who does not hold an air carrier certificate or an operating certificate is permitted to use a person who is otherwise authorized to perform aircraft maintenance or preventive maintenance duties and who is not subject to anti-drug and alcohol misuse prevention programs to perform -  \n",
      "(1) Aircraft maintenance or preventive maintenance on the operator's aircraft if the operator would otherwise be required to transport the aircraft more than 50 nautical miles further than the repair point closest to the operator's principal base of operations to obtain these services; or \n",
      "(2) Emergency repairs on the operator's aircraft if the aircraft cannot be safely operated to a location where an employee subject to FAA-approved programs can perform the repairs. \n",
      "(e) Each person who is on board an aircraft being operated under this part. \n",
      "(f) Each person who is an applicant for an Air Carrier Certificate or an Operating Certificate under part 119 of this chapter, when conducting proving tests. \n",
      "(g) This part also establishes requirements for operators to take actions to support the continued airworthiness of each airplane.\n",
      "[Doc. No. 28154, 60 FR 65925, Dec. 20, 1995, as amended by Amdt. 121-328, 72 FR 6912, Feb. 13, 2007; Amdt. 121-336, 72 FR 63411, Nov. 8, 2007]\n",
      "\n",
      "\n",
      "\n"
     ]
    }
   ],
   "source": [
    "section_text = ''\n",
    "paragraph_text = ''\n",
    "subitem_text = ''\n",
    "\n",
    "position = 'section'\n",
    "\n",
    "for text in sections[0].itertext():\n",
    "    if re.search('\\w', text):\n",
    "        if re.match('^§ 121.\\d*\\s', text):\n",
    "            position = 'section'\n",
    "            section_text, paragraph_text, subitem_text = '', '', ''\n",
    "        elif re.match('^([a-z]*)', text):\n",
    "            position = 'paragraph'\n",
    "            paragraph_text, subitem_text = '', ''\n",
    "        elif\n",
    "            \n",
    "        \n",
    "        section_text += text\n",
    "\n",
    "print(section_text)"
   ]
  },
  {
   "cell_type": "code",
   "execution_count": 126,
   "id": "deadly-zimbabwe",
   "metadata": {},
   "outputs": [
    {
     "name": "stdout",
     "output_type": "stream",
     "text": [
      "match!\n"
     ]
    }
   ],
   "source": [
    "if re.match('.*a', 'fdsfa'):\n",
    "    print('match!')"
   ]
  },
  {
   "cell_type": "code",
   "execution_count": null,
   "id": "opening-longitude",
   "metadata": {},
   "outputs": [],
   "source": []
  },
  {
   "cell_type": "code",
   "execution_count": 75,
   "id": "smooth-madrid",
   "metadata": {},
   "outputs": [
    {
     "name": "stdout",
     "output_type": "stream",
     "text": [
      "\n",
      "\n",
      "§ 121.1500   SFAR No. 111 - Lavatory Oxygen Systems.\n",
      "(a) \n",
      "Applicability.\n",
      "(1) All operators of transport category airplanes that are required to comply with AD 2012-11-09, but only for airplanes on which the actions required by that AD have not been accomplished.\n",
      "\n",
      "(2) Applicants for airworthiness certificates.\n",
      "\n",
      "(3) Holders of production certificates.\n",
      "\n",
      "(4) Applicants for type certificates, including changes to type certificates.\n",
      "\n",
      "(b) \n",
      "Regulatory relief.\n",
      "(1) A person described in paragraph (a) of this section may conduct flight operations and add airplanes to operations specifications with disabled lavatory oxygen systems, modified in accordance with FAA Airworthiness Directive 2011-04-09, subject to the following limitations:\n",
      "\n",
      "(i) This relief is limited to regulatory compliance of lavatory oxygen systems.\n",
      "\n",
      "(ii) Within 30 days of March 29, 2013, all oxygen masks must be removed from affected lavatories, and the mask stowage location must be reclosed.\n",
      "\n",
      "(iii) Within 60 days of March 29, 2013 each affected operator must verify that crew emergency procedures specifically include a visual check of the lavatory as a priority when checking the cabin following any event where oxygen masks were deployed in the cabin.\n",
      "\n",
      "(2) An applicant for an airworthiness certificate may obtain an airworthiness certificate for airplanes to be operated by a person described in paragraph (a) of this section, although the airplane lavatory oxygen system is disabled.\n",
      "\n",
      "(3) A holder of a production certificate may apply for an airworthiness certificate or approval for airplanes to be operated by a person described in paragraph (a) of this section.\n",
      "\n",
      "(4) An applicant for a type certificate or change to a type certificate may obtain a design approval without showing compliance with § 25.1447(c)(1) of this chapter for lavatory oxygen systems, in accordance with this SFAR.\n",
      "\n",
      "(5) Each person covered by paragraph (a) of this section may inform passengers that the lavatories are not equipped with supplemental oxygen.\n",
      "\n",
      "(c) \n",
      "Return to service documentation.\n",
      "(d) \n",
      "Expiration.\n",
      "[Doc. No. FAA-2011-0186, 78 FR 5710, Jan. 28, 2013]\n",
      "\n",
      "\n",
      "\n"
     ]
    }
   ],
   "source": [
    "for element in root121.iter():\n",
    "    print(element.text)\n",
    "    "
   ]
  },
  {
   "cell_type": "code",
   "execution_count": 74,
   "id": "entertaining-association",
   "metadata": {},
   "outputs": [
    {
     "data": {
      "text/plain": [
       "<Element 'P' at 0x000001DFA4285A90>"
      ]
     },
     "execution_count": 74,
     "metadata": {},
     "output_type": "execute_result"
    }
   ],
   "source": []
  },
  {
   "cell_type": "code",
   "execution_count": 60,
   "id": "empty-palestine",
   "metadata": {},
   "outputs": [
    {
     "data": {
      "text/plain": [
       "'§ 121.1500'"
      ]
     },
     "execution_count": 60,
     "metadata": {},
     "output_type": "execute_result"
    }
   ],
   "source": [
    "root121.attrib['N']"
   ]
  },
  {
   "cell_type": "code",
   "execution_count": null,
   "id": "square-clarity",
   "metadata": {},
   "outputs": [],
   "source": []
  },
  {
   "cell_type": "code",
   "execution_count": 31,
   "id": "italian-redhead",
   "metadata": {},
   "outputs": [
    {
     "data": {
      "text/plain": [
       "['__class__',\n",
       " '__copy__',\n",
       " '__deepcopy__',\n",
       " '__delattr__',\n",
       " '__delitem__',\n",
       " '__dir__',\n",
       " '__doc__',\n",
       " '__eq__',\n",
       " '__format__',\n",
       " '__ge__',\n",
       " '__getattribute__',\n",
       " '__getitem__',\n",
       " '__getstate__',\n",
       " '__gt__',\n",
       " '__hash__',\n",
       " '__init__',\n",
       " '__init_subclass__',\n",
       " '__le__',\n",
       " '__len__',\n",
       " '__lt__',\n",
       " '__ne__',\n",
       " '__new__',\n",
       " '__reduce__',\n",
       " '__reduce_ex__',\n",
       " '__repr__',\n",
       " '__setattr__',\n",
       " '__setitem__',\n",
       " '__setstate__',\n",
       " '__sizeof__',\n",
       " '__str__',\n",
       " '__subclasshook__',\n",
       " 'append',\n",
       " 'attrib',\n",
       " 'clear',\n",
       " 'extend',\n",
       " 'find',\n",
       " 'findall',\n",
       " 'findtext',\n",
       " 'get',\n",
       " 'getchildren',\n",
       " 'getiterator',\n",
       " 'insert',\n",
       " 'items',\n",
       " 'iter',\n",
       " 'iterfind',\n",
       " 'itertext',\n",
       " 'keys',\n",
       " 'makeelement',\n",
       " 'remove',\n",
       " 'set',\n",
       " 'tag',\n",
       " 'tail',\n",
       " 'text']"
      ]
     },
     "execution_count": 31,
     "metadata": {},
     "output_type": "execute_result"
    }
   ],
   "source": [
    "dir(root121)"
   ]
  },
  {
   "cell_type": "code",
   "execution_count": 18,
   "id": "static-forth",
   "metadata": {},
   "outputs": [
    {
     "data": {
      "text/plain": [
       "385"
      ]
     },
     "execution_count": 18,
     "metadata": {},
     "output_type": "execute_result"
    }
   ],
   "source": [
    "for element in root.iter():\n",
    "    # stop when DoT part is reached\n",
    "    if element.tag == 'DIV1':\n",
    "        if element.attrib['N'] == '4':\n",
    "            break \n",
    "        # if reached a new section\n",
    "    if element.tag == 'DIV8' and re.match('^§ 121.\\d+', element.attrib['N']):\n",
    "        section_numbers.append(element.attrib['N'])\n",
    "        "
   ]
  },
  {
   "cell_type": "code",
   "execution_count": 19,
   "id": "civil-michael",
   "metadata": {},
   "outputs": [
    {
     "data": {
      "text/plain": [
       "xml.etree.ElementTree.Element"
      ]
     },
     "execution_count": 19,
     "metadata": {},
     "output_type": "execute_result"
    }
   ],
   "source": [
    "type(root)"
   ]
  },
  {
   "cell_type": "code",
   "execution_count": 20,
   "id": "ethical-pathology",
   "metadata": {},
   "outputs": [
    {
     "data": {
      "text/plain": [
       "xml.etree.ElementTree.Element"
      ]
     },
     "execution_count": 20,
     "metadata": {},
     "output_type": "execute_result"
    }
   ],
   "source": []
  },
  {
   "cell_type": "code",
   "execution_count": null,
   "id": "about-garbage",
   "metadata": {},
   "outputs": [],
   "source": []
  },
  {
   "cell_type": "code",
   "execution_count": null,
   "id": "expected-burner",
   "metadata": {},
   "outputs": [],
   "source": []
  },
  {
   "cell_type": "code",
   "execution_count": null,
   "id": "hydraulic-catering",
   "metadata": {},
   "outputs": [],
   "source": []
  },
  {
   "cell_type": "code",
   "execution_count": null,
   "id": "bronze-table",
   "metadata": {},
   "outputs": [],
   "source": []
  },
  {
   "cell_type": "code",
   "execution_count": null,
   "id": "affecting-welsh",
   "metadata": {},
   "outputs": [],
   "source": []
  },
  {
   "cell_type": "code",
   "execution_count": null,
   "id": "indoor-representative",
   "metadata": {},
   "outputs": [],
   "source": []
  },
  {
   "cell_type": "code",
   "execution_count": 8,
   "id": "involved-feelings",
   "metadata": {},
   "outputs": [],
   "source": [
    "filepath = join('FAR', 'ECFR-title14.xml')\n",
    "tree = ET.parse(filepath)\n",
    "root = tree.getroot()\n",
    "\n",
    "part121 = []\n",
    "atributes = []\n",
    "\n",
    "# iterate over each element of the xml tree and fill corresponding lists\n",
    "for element in root.iter():\n",
    "    # stop when DoT part is reached\n",
    "    if element.tag == 'DIV1':\n",
    "        if element.attrib['N'] == '4':\n",
    "            break \n",
    "        # if reached a new section\n",
    "    if element.tag == 'DIV8':\n",
    "        if '§ 121.' in element.attrib['N']:\n",
    "            section = []\n",
    "            [section.append(line) for line in element.itertext() if line[0] != '\\n']\n",
    "            part121.append(' '.join(section))"
   ]
  }
 ],
 "metadata": {
  "kernelspec": {
   "display_name": "Python 3",
   "language": "python",
   "name": "python3"
  },
  "language_info": {
   "codemirror_mode": {
    "name": "ipython",
    "version": 3
   },
   "file_extension": ".py",
   "mimetype": "text/x-python",
   "name": "python",
   "nbconvert_exporter": "python",
   "pygments_lexer": "ipython3",
   "version": "3.8.5"
  }
 },
 "nbformat": 4,
 "nbformat_minor": 5
}
