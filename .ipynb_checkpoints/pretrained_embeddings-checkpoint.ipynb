{
 "cells": [
  {
   "cell_type": "markdown",
   "id": "independent-avatar",
   "metadata": {},
   "source": [
    "### Import libraries and functions"
   ]
  },
  {
   "cell_type": "code",
   "execution_count": 21,
   "id": "comprehensive-variation",
   "metadata": {},
   "outputs": [],
   "source": [
    "import tensorflow as tf\n",
    "import numpy as np\n",
    "import requests\n",
    "from os import listdir, getcwd, chdir, mkdir\n",
    "from os.path import join\n",
    "import zipfile\n",
    "from scipy.spatial.distance import cosine"
   ]
  },
  {
   "cell_type": "markdown",
   "id": "valid-senator",
   "metadata": {},
   "source": [
    "### Download GloVe word embeddings from Stanford website"
   ]
  },
  {
   "cell_type": "code",
   "execution_count": 5,
   "id": "manual-hundred",
   "metadata": {},
   "outputs": [],
   "source": [
    "URL = 'http://nlp.stanford.edu/data/glove.6B.zip'\n",
    "\n",
    "if 'GloVe' not in listdir():\n",
    "    mkdir('GloVe')\n",
    "    \n",
    "current_directory = getcwd()\n",
    "chdir(join(current_directory, 'GloVe'))\n",
    "\n",
    "r = requests.get(URL)\n",
    "with open('glove.6B.zip', 'wb') as file:\n",
    "    file.write(r.content)\n",
    "\n",
    "chdir(current_directory)"
   ]
  },
  {
   "cell_type": "markdown",
   "id": "favorite-arcade",
   "metadata": {},
   "source": [
    "### Unzip embeddings"
   ]
  },
  {
   "cell_type": "code",
   "execution_count": 7,
   "id": "appointed-married",
   "metadata": {},
   "outputs": [],
   "source": [
    "current_directory = getcwd()\n",
    "chdir(join(current_directory, 'GloVe'))\n",
    "\n",
    "zip = zipfile.ZipFile('glove.6B.zip')\n",
    "zip.extractall()\n",
    "\n",
    "chdir(current_directory)"
   ]
  },
  {
   "cell_type": "markdown",
   "id": "viral-cross",
   "metadata": {},
   "source": [
    "### Prepare a dictionary with embedding vectors"
   ]
  },
  {
   "cell_type": "code",
   "execution_count": 12,
   "id": "intermediate-polymer",
   "metadata": {},
   "outputs": [],
   "source": [
    "embedding_dict = {}\n",
    "\n",
    "with open(join(getcwd(), 'GloVe', 'glove.6B.50d.txt'), encoding='UTF-8') as file:\n",
    "    for line in file:\n",
    "        token, vector = line.split(maxsplit=1)\n",
    "        embedding_dict[token] = np.array(vector.replace('\\n','').split(' ')).astype('float')"
   ]
  },
  {
   "cell_type": "code",
   "execution_count": 13,
   "id": "hearing-desert",
   "metadata": {},
   "outputs": [
    {
     "data": {
      "text/plain": [
       "400000"
      ]
     },
     "execution_count": 13,
     "metadata": {},
     "output_type": "execute_result"
    }
   ],
   "source": [
    "len(embedding_dict.keys())"
   ]
  },
  {
   "cell_type": "code",
   "execution_count": 14,
   "id": "announced-berkeley",
   "metadata": {},
   "outputs": [],
   "source": [
    "tokens = list(embedding_dict.keys())\n",
    "embedding_matrix = np.array(embedding_dict.values())"
   ]
  },
  {
   "cell_type": "code",
   "execution_count": 16,
   "id": "pregnant-stereo",
   "metadata": {},
   "outputs": [
    {
     "data": {
      "text/plain": [
       "(array([ 1.7714   , -0.75714  ,  1.0217   , -0.26717  , -0.36311  ,\n",
       "         0.29269  , -0.79656  , -0.49746  ,  0.41422  , -1.0602   ,\n",
       "         1.2215   ,  0.41672  , -0.40249  ,  0.70013  , -1.0695   ,\n",
       "        -0.19489  , -1.0886   ,  1.2409   , -2.1505   , -1.1609   ,\n",
       "         0.10969  ,  0.1729   , -0.82806  , -0.97654  , -0.14616  ,\n",
       "        -1.2641   , -0.13635  , -0.041624 ,  1.0939   ,  0.7116   ,\n",
       "         2.474    , -0.16225  , -0.26348  ,  0.15532  ,  1.1995   ,\n",
       "         0.0076471,  0.76388  , -0.071138 , -1.3869   ,  0.88787  ,\n",
       "         0.36175  , -0.33419  ,  1.6512   , -0.52295  , -0.30657  ,\n",
       "         0.17399  , -0.55383  ,  0.46204  , -0.59634  ,  0.41802  ]),\n",
       " array([ 1.2977   , -0.29922  ,  0.66154  , -0.20133  , -0.02502  ,\n",
       "         0.28644  , -1.0811   , -0.13045  ,  0.64917  , -0.33634  ,\n",
       "         0.53352  ,  0.32792  , -0.43206  ,  1.4613   ,  0.022957 ,\n",
       "        -0.26019  , -1.1061   ,  1.077    , -0.99877  , -1.3468   ,\n",
       "         0.39016  ,  0.43799  , -1.0403   , -0.36612  ,  0.39231  ,\n",
       "        -1.3089   , -0.82404  ,  0.63095  ,  1.2513   ,  0.10211  ,\n",
       "         1.2735   , -0.0050163, -0.39469  ,  0.36387  ,  0.65099  ,\n",
       "        -0.21433  ,  0.52291  , -0.079013 , -0.14676  ,  0.89248  ,\n",
       "        -0.31447  ,  0.090903 ,  0.78216  , -0.10842  , -0.3186   ,\n",
       "         0.16068  , -0.20168  , -0.095033 , -0.010109 ,  0.19048  ]))"
      ]
     },
     "execution_count": 16,
     "metadata": {},
     "output_type": "execute_result"
    }
   ],
   "source": [
    "embedding_dict['aircraft'], embedding_dict['airplane']"
   ]
  },
  {
   "cell_type": "code",
   "execution_count": 29,
   "id": "municipal-connection",
   "metadata": {},
   "outputs": [
    {
     "data": {
      "text/plain": [
       "0.24487051091762535"
      ]
     },
     "execution_count": 29,
     "metadata": {},
     "output_type": "execute_result"
    }
   ],
   "source": [
    "cosine(embedding_dict['aviation'], embedding_dict['aerospace'])"
   ]
  },
  {
   "cell_type": "code",
   "execution_count": null,
   "id": "signal-analyst",
   "metadata": {},
   "outputs": [],
   "source": [
    "\n"
   ]
  }
 ],
 "metadata": {
  "kernelspec": {
   "display_name": "Python 3",
   "language": "python",
   "name": "python3"
  },
  "language_info": {
   "codemirror_mode": {
    "name": "ipython",
    "version": 3
   },
   "file_extension": ".py",
   "mimetype": "text/x-python",
   "name": "python",
   "nbconvert_exporter": "python",
   "pygments_lexer": "ipython3",
   "version": "3.8.5"
  }
 },
 "nbformat": 4,
 "nbformat_minor": 5
}
