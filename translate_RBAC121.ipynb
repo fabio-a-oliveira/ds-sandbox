{
 "cells": [
  {
   "cell_type": "markdown",
   "id": "cognitive-aspect",
   "metadata": {},
   "source": [
    "Install _googletrans_. This _alpha_ version corrects some communication issues with the google translate service."
   ]
  },
  {
   "cell_type": "code",
   "execution_count": 1,
   "id": "exterior-nebraska",
   "metadata": {},
   "outputs": [],
   "source": [
    "#! pip install googletrans==3.1.0a0"
   ]
  },
  {
   "cell_type": "markdown",
   "id": "coupled-excitement",
   "metadata": {},
   "source": [
    "Install _pdfplumber_, required for parsing the original .pdf file."
   ]
  },
  {
   "cell_type": "code",
   "execution_count": 2,
   "id": "contrary-grace",
   "metadata": {},
   "outputs": [],
   "source": [
    "#! pip install pdfplumber"
   ]
  },
  {
   "cell_type": "markdown",
   "id": "sized-mechanism",
   "metadata": {},
   "source": [
    "Import required libraries"
   ]
  },
  {
   "cell_type": "code",
   "execution_count": 3,
   "id": "fresh-profession",
   "metadata": {},
   "outputs": [],
   "source": [
    "import numpy as np\n",
    "from os import getcwd, chdir, mkdir, listdir\n",
    "from os.path import join\n",
    "import googletrans\n",
    "import re\n",
    "import requests\n",
    "import pdfplumber"
   ]
  },
  {
   "cell_type": "markdown",
   "id": "adopted-glass",
   "metadata": {},
   "source": [
    "Download the regulation from www.ANAC.gov.br"
   ]
  },
  {
   "cell_type": "code",
   "execution_count": 4,
   "id": "surprising-subcommittee",
   "metadata": {},
   "outputs": [],
   "source": [
    "url = 'https://www.anac.gov.br/assuntos/legislacao/legislacao-1/rbha-e-rbac/rbac/rbac-121/@@display-file/arquivo_norma/RBAC121EMD12.pdf'\n",
    "\n",
    "r = requests.get(url)\n",
    "\n",
    "if 'RBAC' not in listdir():\n",
    "    mkdir('RBAC')\n",
    "\n",
    "working_directory = getcwd()\n",
    "chdir(join(working_directory, 'RBAC'))\n",
    "\n",
    "with open('RBAC121.pdf', 'wb') as file:\n",
    "    file.write(r.content)\n",
    "\n",
    "chdir(working_directory)"
   ]
  },
  {
   "cell_type": "markdown",
   "id": "internal-friendship",
   "metadata": {},
   "source": [
    "Parse the .pdf file and save to .txt"
   ]
  },
  {
   "cell_type": "code",
   "execution_count": 5,
   "id": "ordered-christian",
   "metadata": {},
   "outputs": [],
   "source": [
    "filepath = join('RBAC', 'RBAC121.pdf')\n",
    "text = ''\n",
    "\n",
    "with pdfplumber.open(filepath) as pdf:\n",
    "    #for page in range(len(pdf.pages)):\n",
    "    for page in range(9,243):\n",
    "        text += pdf.pages[page].extract_text()\n",
    "\n",
    "filepath = join('RBAC', 'RBAC121.txt')\n",
    "with open(filepath, 'w') as file:\n",
    "    file.write(text)"
   ]
  },
  {
   "cell_type": "markdown",
   "id": "southeast-special",
   "metadata": {},
   "source": [
    "Create list of individual sections"
   ]
  },
  {
   "cell_type": "code",
   "execution_count": 6,
   "id": "quick-helicopter",
   "metadata": {},
   "outputs": [],
   "source": [
    "filepath = join('RBAC', 'RBAC121.txt')\n",
    "\n",
    "RBAC121 = []\n",
    "\n",
    "with open(filepath) as file:\n",
    "    for line in file:\n",
    "        if (re.match(' Data da emissão', line) or \n",
    "            re.match('Data de vigência', line) or \n",
    "            re.match('Origem: SPO', line) or\n",
    "            not re.match('\\w', line)):\n",
    "            pass\n",
    "        elif re.match('^121\\.\\d{1,4}  ', line):\n",
    "            RBAC121.append(line)\n",
    "        elif len(RBAC121) > 0:\n",
    "            RBAC121[-1] += line"
   ]
  },
  {
   "cell_type": "markdown",
   "id": "minute-victim",
   "metadata": {},
   "source": [
    "Create lists containing each section translation and translation status"
   ]
  },
  {
   "cell_type": "code",
   "execution_count": 7,
   "id": "young-kuwait",
   "metadata": {},
   "outputs": [],
   "source": [
    "RBAC121_lang = np.repeat(np.array('pt'), len(RBAC121)).tolist()\n",
    "RBAC121_en = np.repeat(np.array(''), len(RBAC121)).tolist()\n",
    "RBAC121_extra_data = np.repeat(np.array(''), len(RBAC121)).tolist()"
   ]
  },
  {
   "cell_type": "markdown",
   "id": "duplicate-vietnamese",
   "metadata": {},
   "source": [
    "Translate each section using the google translate service. Run this code every few hours until all sentences are translated:"
   ]
  },
  {
   "cell_type": "code",
   "execution_count": 13,
   "id": "indoor-sampling",
   "metadata": {},
   "outputs": [
    {
     "name": "stdout",
     "output_type": "stream",
     "text": [
      "Translated sentences: 360 out of 360\n"
     ]
    }
   ],
   "source": [
    "translator = googletrans.Translator()\n",
    "\n",
    "for section in range(len(RBAC121)):\n",
    "    if RBAC121_lang[section] == 'pt':\n",
    "        translation = translator.translate(RBAC121[section], dest='en', src='pt')\n",
    "        RBAC121_en[section] = translation.text\n",
    "        RBAC121_extra_data[section] = translation.extra_data\n",
    "        if translation.extra_data['original-language'] == 'pt':\n",
    "            RBAC121_lang[section] = 'en'\n",
    "\n",
    "print('Translated sentences: {} out of {}'.format(RBAC121_lang.count('en'), len(RBAC121_lang)))"
   ]
  },
  {
   "cell_type": "markdown",
   "id": "american-intro",
   "metadata": {},
   "source": [
    "Save the full translation to .txt file."
   ]
  },
  {
   "cell_type": "code",
   "execution_count": 17,
   "id": "recent-sleeping",
   "metadata": {},
   "outputs": [],
   "source": [
    "filepath = join('RBAC', 'RBAC121_en.txt')\n",
    "\n",
    "with open(filepath, 'w', encoding='utf-8') as file:\n",
    "    for section in RBAC121_en:\n",
    "        file.write(section + '\\n<EOS>\\n')"
   ]
  },
  {
   "cell_type": "code",
   "execution_count": null,
   "id": "genetic-plain",
   "metadata": {},
   "outputs": [],
   "source": []
  },
  {
   "cell_type": "code",
   "execution_count": null,
   "id": "respective-resource",
   "metadata": {},
   "outputs": [],
   "source": []
  },
  {
   "cell_type": "code",
   "execution_count": null,
   "id": "focal-dealing",
   "metadata": {},
   "outputs": [],
   "source": []
  },
  {
   "cell_type": "code",
   "execution_count": null,
   "id": "brown-argentina",
   "metadata": {},
   "outputs": [],
   "source": []
  },
  {
   "cell_type": "code",
   "execution_count": null,
   "id": "racial-australia",
   "metadata": {},
   "outputs": [],
   "source": []
  }
 ],
 "metadata": {
  "kernelspec": {
   "display_name": "Python 3",
   "language": "python",
   "name": "python3"
  },
  "language_info": {
   "codemirror_mode": {
    "name": "ipython",
    "version": 3
   },
   "file_extension": ".py",
   "mimetype": "text/x-python",
   "name": "python",
   "nbconvert_exporter": "python",
   "pygments_lexer": "ipython3",
   "version": "3.8.5"
  }
 },
 "nbformat": 4,
 "nbformat_minor": 5
}
